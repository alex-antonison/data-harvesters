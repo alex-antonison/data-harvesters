{
 "cells": [
  {
   "cell_type": "code",
   "execution_count": 1,
   "metadata": {},
   "outputs": [],
   "source": [
    "import pandas as pd"
   ]
  },
  {
   "cell_type": "code",
   "execution_count": 2,
   "metadata": {},
   "outputs": [],
   "source": [
    "df = pd.read_csv(\"../data/raw/farmersmarkets.csv\")"
   ]
  },
  {
   "cell_type": "code",
   "execution_count": 3,
   "metadata": {},
   "outputs": [
    {
     "output_type": "execute_result",
     "data": {
      "text/plain": "59"
     },
     "metadata": {},
     "execution_count": 3
    }
   ],
   "source": [
    "len(df.columns)"
   ]
  },
  {
   "cell_type": "code",
   "execution_count": 4,
   "metadata": {
    "tags": []
   },
   "outputs": [
    {
     "output_type": "stream",
     "name": "stdout",
     "text": "<class 'pandas.core.frame.DataFrame'>\nRangeIndex: 8687 entries, 0 to 8686\nData columns (total 59 columns):\n #   Column         Non-Null Count  Dtype  \n---  ------         --------------  -----  \n 0   FMID           8687 non-null   int64  \n 1   MarketName     8687 non-null   object \n 2   Website        5212 non-null   object \n 3   Facebook       3929 non-null   object \n 4   Twitter        1008 non-null   object \n 5   Youtube        171 non-null    object \n 6   OtherMedia     718 non-null    object \n 7   street         8397 non-null   object \n 8   city           8647 non-null   object \n 9   County         8172 non-null   object \n 10  State          8687 non-null   object \n 11  zip            7742 non-null   object \n 12  Season1Date    5479 non-null   object \n 13  Season1Time    5637 non-null   object \n 14  Season2Date    449 non-null    object \n 15  Season2Time    437 non-null    object \n 16  Season3Date    81 non-null     object \n 17  Season3Time    77 non-null     object \n 18  Season4Date    6 non-null      object \n 19  Season4Time    6 non-null      object \n 20  x              8658 non-null   float64\n 21  y              8658 non-null   float64\n 22  Location       2729 non-null   object \n 23  Credit         8687 non-null   object \n 24  WIC            8687 non-null   object \n 25  WICcash        8687 non-null   object \n 26  SFMNP          8687 non-null   object \n 27  SNAP           8687 non-null   object \n 28  Organic        8687 non-null   object \n 29  Bakedgoods     5754 non-null   object \n 30  Cheese         5754 non-null   object \n 31  Crafts         5754 non-null   object \n 32  Flowers        5754 non-null   object \n 33  Eggs           5754 non-null   object \n 34  Seafood        5754 non-null   object \n 35  Herbs          5754 non-null   object \n 36  Vegetables     5754 non-null   object \n 37  Honey          5754 non-null   object \n 38  Jams           5754 non-null   object \n 39  Maple          5754 non-null   object \n 40  Meat           5754 non-null   object \n 41  Nursery        5754 non-null   object \n 42  Nuts           5754 non-null   object \n 43  Plants         5754 non-null   object \n 44  Poultry        5754 non-null   object \n 45  Prepared       5754 non-null   object \n 46  Soap           5754 non-null   object \n 47  Trees          5754 non-null   object \n 48  Wine           5754 non-null   object \n 49  Coffee         5754 non-null   object \n 50  Beans          5754 non-null   object \n 51  Fruits         5754 non-null   object \n 52  Grains         5754 non-null   object \n 53  Juices         5754 non-null   object \n 54  Mushrooms      5754 non-null   object \n 55  PetFood        5754 non-null   object \n 56  Tofu           5754 non-null   object \n 57  WildHarvested  5754 non-null   object \n 58  updateTime     8687 non-null   object \ndtypes: float64(2), int64(1), object(56)\nmemory usage: 3.9+ MB\n"
    }
   ],
   "source": [
    "df.info()"
   ]
  },
  {
   "cell_type": "code",
   "execution_count": 5,
   "metadata": {},
   "outputs": [
    {
     "output_type": "execute_result",
     "data": {
      "text/plain": "FMID                0\nMarketName          0\nWebsite          3475\nFacebook         4758\nTwitter          7679\nYoutube          8516\nOtherMedia       7969\nstreet            290\ncity               40\nCounty            515\nState               0\nzip               945\nSeason1Date      3208\nSeason1Time      3050\nSeason2Date      8238\nSeason2Time      8250\nSeason3Date      8606\nSeason3Time      8610\nSeason4Date      8681\nSeason4Time      8681\nx                  29\ny                  29\nLocation         5958\nCredit              0\nWIC                 0\nWICcash             0\nSFMNP               0\nSNAP                0\nOrganic             0\nBakedgoods       2933\nCheese           2933\nCrafts           2933\nFlowers          2933\nEggs             2933\nSeafood          2933\nHerbs            2933\nVegetables       2933\nHoney            2933\nJams             2933\nMaple            2933\nMeat             2933\nNursery          2933\nNuts             2933\nPlants           2933\nPoultry          2933\nPrepared         2933\nSoap             2933\nTrees            2933\nWine             2933\nCoffee           2933\nBeans            2933\nFruits           2933\nGrains           2933\nJuices           2933\nMushrooms        2933\nPetFood          2933\nTofu             2933\nWildHarvested    2933\nupdateTime          0\ndtype: int64"
     },
     "metadata": {},
     "execution_count": 5
    }
   ],
   "source": [
    "df.isnull().sum()"
   ]
  },
  {
   "cell_type": "code",
   "execution_count": 6,
   "metadata": {},
   "outputs": [
    {
     "output_type": "execute_result",
     "data": {
      "text/plain": "FMID             100.000000\nMarketName       100.000000\nWebsite           59.997698\nFacebook          45.228502\nTwitter           11.603546\nYoutube            1.968459\nOtherMedia         8.265224\nstreet            96.661678\ncity              99.539542\nCounty            94.071601\nState            100.000000\nzip               89.121676\nSeason1Date       63.071256\nSeason1Time       64.890066\nSeason2Date        5.168643\nSeason2Time        5.030505\nSeason3Date        0.932428\nSeason3Time        0.886382\nSeason4Date        0.069069\nSeason4Time        0.069069\nx                 99.666168\ny                 99.666168\nLocation          31.414758\nCredit           100.000000\nWIC              100.000000\nWICcash          100.000000\nSFMNP            100.000000\nSNAP             100.000000\nOrganic          100.000000\nBakedgoods        66.236906\nCheese            66.236906\nCrafts            66.236906\nFlowers           66.236906\nEggs              66.236906\nSeafood           66.236906\nHerbs             66.236906\nVegetables        66.236906\nHoney             66.236906\nJams              66.236906\nMaple             66.236906\nMeat              66.236906\nNursery           66.236906\nNuts              66.236906\nPlants            66.236906\nPoultry           66.236906\nPrepared          66.236906\nSoap              66.236906\nTrees             66.236906\nWine              66.236906\nCoffee            66.236906\nBeans             66.236906\nFruits            66.236906\nGrains            66.236906\nJuices            66.236906\nMushrooms         66.236906\nPetFood           66.236906\nTofu              66.236906\nWildHarvested     66.236906\nupdateTime       100.000000\ndtype: float64"
     },
     "metadata": {},
     "execution_count": 6
    }
   ],
   "source": [
    "(1-df.isnull().sum()/len(df))*100"
   ]
  }
 ],
 "metadata": {
  "kernelspec": {
   "display_name": "Python 3.8.0 64-bit ('data-harvesters': pipenv)",
   "language": "python",
   "name": "python38064bitdataharvesterspipenv1a2ede15533846459c7c3ce9a8a4b83b"
  },
  "language_info": {
   "codemirror_mode": {
    "name": "ipython",
    "version": 3
   },
   "file_extension": ".py",
   "mimetype": "text/x-python",
   "name": "python",
   "nbconvert_exporter": "python",
   "pygments_lexer": "ipython3",
   "version": "3.8.0-final"
  }
 },
 "nbformat": 4,
 "nbformat_minor": 2
}
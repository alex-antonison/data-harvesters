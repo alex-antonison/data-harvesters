{
 "cells": [
  {
   "cell_type": "code",
   "execution_count": 1,
   "metadata": {},
   "outputs": [],
   "source": [
    "import pandas as pd"
   ]
  },
  {
   "cell_type": "code",
   "execution_count": 2,
   "metadata": {},
   "outputs": [],
   "source": [
    "df = pd.read_csv(\"../data/raw/farmersmarkets.csv\")"
   ]
  },
  {
   "cell_type": "code",
   "execution_count": 3,
   "metadata": {},
   "outputs": [
    {
     "data": {
      "text/plain": [
       "59"
      ]
     },
     "execution_count": 3,
     "metadata": {},
     "output_type": "execute_result"
    }
   ],
   "source": [
    "len(df.columns)"
   ]
  },
  {
   "cell_type": "code",
   "execution_count": 4,
   "metadata": {
    "tags": []
   },
   "outputs": [
    {
     "name": "stdout",
     "output_type": "stream",
     "text": [
      "<class 'pandas.core.frame.DataFrame'>\n",
      "RangeIndex: 8687 entries, 0 to 8686\n",
      "Data columns (total 59 columns):\n",
      " #   Column         Non-Null Count  Dtype  \n",
      "---  ------         --------------  -----  \n",
      " 0   FMID           8687 non-null   int64  \n",
      " 1   MarketName     8687 non-null   object \n",
      " 2   Website        5212 non-null   object \n",
      " 3   Facebook       3929 non-null   object \n",
      " 4   Twitter        1008 non-null   object \n",
      " 5   Youtube        171 non-null    object \n",
      " 6   OtherMedia     718 non-null    object \n",
      " 7   street         8397 non-null   object \n",
      " 8   city           8647 non-null   object \n",
      " 9   County         8172 non-null   object \n",
      " 10  State          8687 non-null   object \n",
      " 11  zip            7742 non-null   object \n",
      " 12  Season1Date    5479 non-null   object \n",
      " 13  Season1Time    5637 non-null   object \n",
      " 14  Season2Date    449 non-null    object \n",
      " 15  Season2Time    437 non-null    object \n",
      " 16  Season3Date    81 non-null     object \n",
      " 17  Season3Time    77 non-null     object \n",
      " 18  Season4Date    6 non-null      object \n",
      " 19  Season4Time    6 non-null      object \n",
      " 20  x              8658 non-null   float64\n",
      " 21  y              8658 non-null   float64\n",
      " 22  Location       2729 non-null   object \n",
      " 23  Credit         8687 non-null   object \n",
      " 24  WIC            8687 non-null   object \n",
      " 25  WICcash        8687 non-null   object \n",
      " 26  SFMNP          8687 non-null   object \n",
      " 27  SNAP           8687 non-null   object \n",
      " 28  Organic        8687 non-null   object \n",
      " 29  Bakedgoods     5754 non-null   object \n",
      " 30  Cheese         5754 non-null   object \n",
      " 31  Crafts         5754 non-null   object \n",
      " 32  Flowers        5754 non-null   object \n",
      " 33  Eggs           5754 non-null   object \n",
      " 34  Seafood        5754 non-null   object \n",
      " 35  Herbs          5754 non-null   object \n",
      " 36  Vegetables     5754 non-null   object \n",
      " 37  Honey          5754 non-null   object \n",
      " 38  Jams           5754 non-null   object \n",
      " 39  Maple          5754 non-null   object \n",
      " 40  Meat           5754 non-null   object \n",
      " 41  Nursery        5754 non-null   object \n",
      " 42  Nuts           5754 non-null   object \n",
      " 43  Plants         5754 non-null   object \n",
      " 44  Poultry        5754 non-null   object \n",
      " 45  Prepared       5754 non-null   object \n",
      " 46  Soap           5754 non-null   object \n",
      " 47  Trees          5754 non-null   object \n",
      " 48  Wine           5754 non-null   object \n",
      " 49  Coffee         5754 non-null   object \n",
      " 50  Beans          5754 non-null   object \n",
      " 51  Fruits         5754 non-null   object \n",
      " 52  Grains         5754 non-null   object \n",
      " 53  Juices         5754 non-null   object \n",
      " 54  Mushrooms      5754 non-null   object \n",
      " 55  PetFood        5754 non-null   object \n",
      " 56  Tofu           5754 non-null   object \n",
      " 57  WildHarvested  5754 non-null   object \n",
      " 58  updateTime     8687 non-null   object \n",
      "dtypes: float64(2), int64(1), object(56)\n",
      "memory usage: 3.9+ MB\n"
     ]
    }
   ],
   "source": [
    "df.info()"
   ]
  },
  {
   "cell_type": "code",
   "execution_count": 5,
   "metadata": {},
   "outputs": [
    {
     "data": {
      "text/plain": [
       "FMID                0\n",
       "MarketName          0\n",
       "Website          3475\n",
       "Facebook         4758\n",
       "Twitter          7679\n",
       "Youtube          8516\n",
       "OtherMedia       7969\n",
       "street            290\n",
       "city               40\n",
       "County            515\n",
       "State               0\n",
       "zip               945\n",
       "Season1Date      3208\n",
       "Season1Time      3050\n",
       "Season2Date      8238\n",
       "Season2Time      8250\n",
       "Season3Date      8606\n",
       "Season3Time      8610\n",
       "Season4Date      8681\n",
       "Season4Time      8681\n",
       "x                  29\n",
       "y                  29\n",
       "Location         5958\n",
       "Credit              0\n",
       "WIC                 0\n",
       "WICcash             0\n",
       "SFMNP               0\n",
       "SNAP                0\n",
       "Organic             0\n",
       "Bakedgoods       2933\n",
       "Cheese           2933\n",
       "Crafts           2933\n",
       "Flowers          2933\n",
       "Eggs             2933\n",
       "Seafood          2933\n",
       "Herbs            2933\n",
       "Vegetables       2933\n",
       "Honey            2933\n",
       "Jams             2933\n",
       "Maple            2933\n",
       "Meat             2933\n",
       "Nursery          2933\n",
       "Nuts             2933\n",
       "Plants           2933\n",
       "Poultry          2933\n",
       "Prepared         2933\n",
       "Soap             2933\n",
       "Trees            2933\n",
       "Wine             2933\n",
       "Coffee           2933\n",
       "Beans            2933\n",
       "Fruits           2933\n",
       "Grains           2933\n",
       "Juices           2933\n",
       "Mushrooms        2933\n",
       "PetFood          2933\n",
       "Tofu             2933\n",
       "WildHarvested    2933\n",
       "updateTime          0\n",
       "dtype: int64"
      ]
     },
     "execution_count": 5,
     "metadata": {},
     "output_type": "execute_result"
    }
   ],
   "source": [
    "df.isnull().sum()"
   ]
  },
  {
   "cell_type": "code",
   "execution_count": 6,
   "metadata": {},
   "outputs": [
    {
     "data": {
      "text/plain": [
       "FMID             100.000000\n",
       "MarketName       100.000000\n",
       "Website           59.997698\n",
       "Facebook          45.228502\n",
       "Twitter           11.603546\n",
       "Youtube            1.968459\n",
       "OtherMedia         8.265224\n",
       "street            96.661678\n",
       "city              99.539542\n",
       "County            94.071601\n",
       "State            100.000000\n",
       "zip               89.121676\n",
       "Season1Date       63.071256\n",
       "Season1Time       64.890066\n",
       "Season2Date        5.168643\n",
       "Season2Time        5.030505\n",
       "Season3Date        0.932428\n",
       "Season3Time        0.886382\n",
       "Season4Date        0.069069\n",
       "Season4Time        0.069069\n",
       "x                 99.666168\n",
       "y                 99.666168\n",
       "Location          31.414758\n",
       "Credit           100.000000\n",
       "WIC              100.000000\n",
       "WICcash          100.000000\n",
       "SFMNP            100.000000\n",
       "SNAP             100.000000\n",
       "Organic          100.000000\n",
       "Bakedgoods        66.236906\n",
       "Cheese            66.236906\n",
       "Crafts            66.236906\n",
       "Flowers           66.236906\n",
       "Eggs              66.236906\n",
       "Seafood           66.236906\n",
       "Herbs             66.236906\n",
       "Vegetables        66.236906\n",
       "Honey             66.236906\n",
       "Jams              66.236906\n",
       "Maple             66.236906\n",
       "Meat              66.236906\n",
       "Nursery           66.236906\n",
       "Nuts              66.236906\n",
       "Plants            66.236906\n",
       "Poultry           66.236906\n",
       "Prepared          66.236906\n",
       "Soap              66.236906\n",
       "Trees             66.236906\n",
       "Wine              66.236906\n",
       "Coffee            66.236906\n",
       "Beans             66.236906\n",
       "Fruits            66.236906\n",
       "Grains            66.236906\n",
       "Juices            66.236906\n",
       "Mushrooms         66.236906\n",
       "PetFood           66.236906\n",
       "Tofu              66.236906\n",
       "WildHarvested     66.236906\n",
       "updateTime       100.000000\n",
       "dtype: float64"
      ]
     },
     "execution_count": 6,
     "metadata": {},
     "output_type": "execute_result"
    }
   ],
   "source": [
    "(1-df.isnull().sum()/len(df))*100"
   ]
  }
 ],
 "metadata": {
  "kernelspec": {
   "display_name": "Python 3.8.0 64-bit ('data-harvesters': pipenv)",
   "language": "python",
   "name": "python38064bitdataharvesterspipenv1a2ede15533846459c7c3ce9a8a4b83b"
  },
  "language_info": {
   "codemirror_mode": {
    "name": "ipython",
    "version": 3
   },
   "file_extension": ".py",
   "mimetype": "text/x-python",
   "name": "python",
   "nbconvert_exporter": "python",
   "pygments_lexer": "ipython3",
   "version": "3.8.0"
  }
 },
 "nbformat": 4,
 "nbformat_minor": 2
}

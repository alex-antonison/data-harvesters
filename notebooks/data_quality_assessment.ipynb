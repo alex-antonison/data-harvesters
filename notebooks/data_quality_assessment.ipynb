{
 "cells": [
  {
   "cell_type": "code",
   "execution_count": 1,
   "metadata": {},
   "outputs": [],
   "source": [
    "import pandas as pd\n",
    "pd.set_option('display.max_columns', None)  \n",
    "pd.set_option('display.max_rows', None)  "
   ]
  },
  {
   "cell_type": "code",
   "execution_count": 2,
   "metadata": {},
   "outputs": [],
   "source": [
    "df = pd.read_csv(\"../data/processed/farmersmarkets_processed_with_address.csv\")"
   ]
  },
  {
   "cell_type": "code",
   "execution_count": 20,
   "metadata": {
    "tags": []
   },
   "outputs": [
    {
     "output_type": "stream",
     "name": "stdout",
     "text": "<class 'pandas.core.frame.DataFrame'>\nRangeIndex: 8687 entries, 0 to 8686\nData columns (total 78 columns):\n #   Column            Non-Null Count  Dtype  \n---  ------            --------------  -----  \n 0   Unnamed: 0        8687 non-null   int64  \n 1   FMID              8687 non-null   int64  \n 2   MarketName        8687 non-null   object \n 3   Website           5212 non-null   object \n 4   Facebook          3929 non-null   object \n 5   Facebook_Link     3399 non-null   object \n 6   Twitter           1008 non-null   object \n 7   Twitter_Link      761 non-null    object \n 8   Youtube           171 non-null    object \n 9   Youtube_Link      123 non-null    object \n 10  OtherMedia        718 non-null    object \n 11  OtherMedia_Link   460 non-null    object \n 12  street            8397 non-null   object \n 13  street_valid      4244 non-null   object \n 14  city              8647 non-null   object \n 15  city_valid        8451 non-null   object \n 16  County            8172 non-null   object \n 17  County_valid      8007 non-null   object \n 18  State             8687 non-null   object \n 19  zip               7742 non-null   object \n 20  zip_valid         7724 non-null   object \n 21  full_address      3844 non-null   object \n 22  Season1Date       5479 non-null   object \n 23  Season1StartDate  4552 non-null   object \n 24  Season1EndDate    4552 non-null   object \n 25  Season1Time       5637 non-null   object \n 26  Season2Date       449 non-null    object \n 27  Season2StartDate  409 non-null    object \n 28  Season2EndDate    409 non-null    object \n 29  Season2Time       437 non-null    object \n 30  Season3Date       81 non-null     object \n 31  Season3StartDate  73 non-null     object \n 32  Season3EndDate    73 non-null     object \n 33  Season3Time       77 non-null     object \n 34  Season4Date       6 non-null      object \n 35  Season4StartDate  5 non-null      object \n 36  Season4EndDate    5 non-null      object \n 37  Season4Time       6 non-null      object \n 38  longitude         8658 non-null   float64\n 39  latitude          8658 non-null   float64\n 40  Location          2729 non-null   object \n 41  Credit            8687 non-null   object \n 42  WIC               8687 non-null   object \n 43  WICcash           8687 non-null   object \n 44  SFMNP             8687 non-null   object \n 45  SNAP              8687 non-null   object \n 46  Organic           8687 non-null   object \n 47  Organic_valid     3644 non-null   object \n 48  Bakedgoods        5754 non-null   object \n 49  Cheese            5754 non-null   object \n 50  Crafts            5754 non-null   object \n 51  Flowers           5754 non-null   object \n 52  Eggs              5754 non-null   object \n 53  Seafood           5754 non-null   object \n 54  Herbs             5754 non-null   object \n 55  Vegetables        5754 non-null   object \n 56  Honey             5754 non-null   object \n 57  Jams              5754 non-null   object \n 58  Maple             5754 non-null   object \n 59  Meat              5754 non-null   object \n 60  Nursery           5754 non-null   object \n 61  Nuts              5754 non-null   object \n 62  Plants            5754 non-null   object \n 63  Poultry           5754 non-null   object \n 64  Prepared          5754 non-null   object \n 65  Soap              5754 non-null   object \n 66  Trees             5754 non-null   object \n 67  Wine              5754 non-null   object \n 68  Coffee            5754 non-null   object \n 69  Beans             5754 non-null   object \n 70  Fruits            5754 non-null   object \n 71  Grains            5754 non-null   object \n 72  Juices            5754 non-null   object \n 73  Mushrooms         5754 non-null   object \n 74  PetFood           5754 non-null   object \n 75  Tofu              5754 non-null   object \n 76  WildHarvested     5754 non-null   object \n 77  updateTime        8687 non-null   object \ndtypes: float64(2), int64(2), object(74)\nmemory usage: 5.2+ MB\n"
    }
   ],
   "source": [
    "df.info()\n"
   ]
  }
 ],
 "metadata": {
  "language_info": {
   "codemirror_mode": {
    "name": "ipython",
    "version": 3
   },
   "file_extension": ".py",
   "mimetype": "text/x-python",
   "name": "python",
   "nbconvert_exporter": "python",
   "pygments_lexer": "ipython3",
   "version": "3.8.0-final"
  },
  "orig_nbformat": 2,
  "kernelspec": {
   "name": "python38064bitdataharvesterspipenv4050ff82f73d4d6dadf8f9840b24b285",
   "display_name": "Python 3.8.0 64-bit ('data-harvesters': pipenv)"
  }
 },
 "nbformat": 4,
 "nbformat_minor": 2
}
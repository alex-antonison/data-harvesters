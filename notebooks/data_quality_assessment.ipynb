{
 "cells": [
  {
   "cell_type": "code",
   "execution_count": 2,
   "metadata": {
    "tags": []
   },
   "outputs": [
    {
     "output_type": "error",
     "ename": "SyntaxError",
     "evalue": "invalid syntax (<ipython-input-2-0e32ab5c5ae7>, line 3)",
     "traceback": [
      "\u001b[0;36m  File \u001b[0;32m\"<ipython-input-2-0e32ab5c5ae7>\"\u001b[0;36m, line \u001b[0;32m3\u001b[0m\n\u001b[0;31m    import pand as#import pandas as pd\u001b[0m\n\u001b[0m                  ^\u001b[0m\n\u001b[0;31mSyntaxError\u001b[0m\u001b[0;31m:\u001b[0m invalid syntax\n"
     ]
    }
   ],
   "source": [
    "# # %%\n",
    "impor# t re\n",
    "import pand as#import pandas as pd\n",
    " #  pd\n",
    "\n",
    "pd.set_option('display.max_rs', # # 500)\n",
    "pd.set_option('display.max_colus', # # 500)\n",
    "pd.set_option('display.width\n",
    "# # %%\n",
    "df = pd.csv(\"read_../data/processed/farmersmarkets_processe\".csvd, low_memory=)a # sv\")\n",
    "df['street'] = str(df['tee# # t'])\n",
    "df.info()"
   ]
  },
  {
   "cell_type": "code",
   "execution_count": 8,
   "metadata": {},
   "outputs": [],
   "source": [
    "# %%\n",
    "df['street'].head()\n",
    "\n",
    "# %%\n",
    "def return_valid_address(address):\n",
    "    return re.findall(\"\\d+[ ](?:[A-Za-z0-9.-]+[ ]?)+(?:Avenue|Lane|Road|Boulevard|Drive|Pike|Pk|Street|Ave|Dr|Rd|Blvd|Ln|St)\\.?\", \n",
    "    str(address))[0]\n",
    "\n",
    "df['street_valid'] = df['street'].apply(lambda x: return_valid_address(x))"
   ]
  },
  {
   "cell_type": "code",
   "execution_count": 19,
   "metadata": {},
   "outputs": [
    {
     "output_type": "execute_result",
     "data": {
      "text/plain": "      FMID                          MarketName                          Website                       Facebook Facebook_Link Twitter Twitter_Link Youtube Youtube_Link OtherMedia OtherMedia_Link                                             street    city city_valid    County County_valid State  zip zip_valid               Season1Date      Season1StartDate        Season1EndDate            Season1Time Season2Date Season2StartDate Season2EndDate Season2Time Season3Date Season3StartDate Season3EndDate Season3Time Season4Date Season4StartDate Season4EndDate Season4Time  longitude   latitude Location Credit WIC WICcash SFMNP SNAP Organic Organic_valid Bakedgoods Cheese Crafts Flowers Eggs Seafood Herbs Vegetables Honey Jams Maple Meat Nursery Nuts Plants Poultry Prepared Soap Trees Wine Coffee Beans Fruits Grains Juices Mushrooms PetFood Tofu WildHarvested            updateTime\n1  1018318   Stearns Homestead Farmers' Market  http://www.StearnsHomestead.com  StearnsHomesteadFarmersMarket           NaN     NaN          NaN     NaN          NaN        NaN             NaN  0                              NaN\\n1         ...  Parma       Parma  Cuyahoga     Cuyahoga  Ohio  NaN       NaN  06/24/2017 to 09/30/2017  2017-06-24T00:00:00Z  2017-09-30T00:00:00Z  Sat: 9:00 AM-1:00 PM;         NaN              NaN            NaN         NaN         NaN              NaN            NaN         NaN         NaN              NaN            NaN         NaN -81.733939  41.374801      NaN      Y   N       N     Y    N       -           NaN          Y      N      Y       Y    Y       N     Y          Y     Y    Y     Y    N       N    N      N       Y        N    Y     N    N      N     N      Y      N      N         N       N    N             N  2017-06-21T17:15:01Z",
      "text/html": "<div>\n<style scoped>\n    .dataframe tbody tr th:only-of-type {\n        vertical-align: middle;\n    }\n\n    .dataframe tbody tr th {\n        vertical-align: top;\n    }\n\n    .dataframe thead th {\n        text-align: right;\n    }\n</style>\n<table border=\"1\" class=\"dataframe\">\n  <thead>\n    <tr style=\"text-align: right;\">\n      <th></th>\n      <th>FMID</th>\n      <th>MarketName</th>\n      <th>Website</th>\n      <th>Facebook</th>\n      <th>Facebook_Link</th>\n      <th>Twitter</th>\n      <th>Twitter_Link</th>\n      <th>Youtube</th>\n      <th>Youtube_Link</th>\n      <th>OtherMedia</th>\n      <th>OtherMedia_Link</th>\n      <th>street</th>\n      <th>city</th>\n      <th>city_valid</th>\n      <th>County</th>\n      <th>County_valid</th>\n      <th>State</th>\n      <th>zip</th>\n      <th>zip_valid</th>\n      <th>Season1Date</th>\n      <th>Season1StartDate</th>\n      <th>Season1EndDate</th>\n      <th>Season1Time</th>\n      <th>Season2Date</th>\n      <th>Season2StartDate</th>\n      <th>Season2EndDate</th>\n      <th>Season2Time</th>\n      <th>Season3Date</th>\n      <th>Season3StartDate</th>\n      <th>Season3EndDate</th>\n      <th>Season3Time</th>\n      <th>Season4Date</th>\n      <th>Season4StartDate</th>\n      <th>Season4EndDate</th>\n      <th>Season4Time</th>\n      <th>longitude</th>\n      <th>latitude</th>\n      <th>Location</th>\n      <th>Credit</th>\n      <th>WIC</th>\n      <th>WICcash</th>\n      <th>SFMNP</th>\n      <th>SNAP</th>\n      <th>Organic</th>\n      <th>Organic_valid</th>\n      <th>Bakedgoods</th>\n      <th>Cheese</th>\n      <th>Crafts</th>\n      <th>Flowers</th>\n      <th>Eggs</th>\n      <th>Seafood</th>\n      <th>Herbs</th>\n      <th>Vegetables</th>\n      <th>Honey</th>\n      <th>Jams</th>\n      <th>Maple</th>\n      <th>Meat</th>\n      <th>Nursery</th>\n      <th>Nuts</th>\n      <th>Plants</th>\n      <th>Poultry</th>\n      <th>Prepared</th>\n      <th>Soap</th>\n      <th>Trees</th>\n      <th>Wine</th>\n      <th>Coffee</th>\n      <th>Beans</th>\n      <th>Fruits</th>\n      <th>Grains</th>\n      <th>Juices</th>\n      <th>Mushrooms</th>\n      <th>PetFood</th>\n      <th>Tofu</th>\n      <th>WildHarvested</th>\n      <th>updateTime</th>\n    </tr>\n  </thead>\n  <tbody>\n    <tr>\n      <th>1</th>\n      <td>1018318</td>\n      <td>Stearns Homestead Farmers' Market</td>\n      <td>http://www.StearnsHomestead.com</td>\n      <td>StearnsHomesteadFarmersMarket</td>\n      <td>NaN</td>\n      <td>NaN</td>\n      <td>NaN</td>\n      <td>NaN</td>\n      <td>NaN</td>\n      <td>NaN</td>\n      <td>NaN</td>\n      <td>0                              NaN\\n1         ...</td>\n      <td>Parma</td>\n      <td>Parma</td>\n      <td>Cuyahoga</td>\n      <td>Cuyahoga</td>\n      <td>Ohio</td>\n      <td>NaN</td>\n      <td>NaN</td>\n      <td>06/24/2017 to 09/30/2017</td>\n      <td>2017-06-24T00:00:00Z</td>\n      <td>2017-09-30T00:00:00Z</td>\n      <td>Sat: 9:00 AM-1:00 PM;</td>\n      <td>NaN</td>\n      <td>NaN</td>\n      <td>NaN</td>\n      <td>NaN</td>\n      <td>NaN</td>\n      <td>NaN</td>\n      <td>NaN</td>\n      <td>NaN</td>\n      <td>NaN</td>\n      <td>NaN</td>\n      <td>NaN</td>\n      <td>NaN</td>\n      <td>-81.733939</td>\n      <td>41.374801</td>\n      <td>NaN</td>\n      <td>Y</td>\n      <td>N</td>\n      <td>N</td>\n      <td>Y</td>\n      <td>N</td>\n      <td>-</td>\n      <td>NaN</td>\n      <td>Y</td>\n      <td>N</td>\n      <td>Y</td>\n      <td>Y</td>\n      <td>Y</td>\n      <td>N</td>\n      <td>Y</td>\n      <td>Y</td>\n      <td>Y</td>\n      <td>Y</td>\n      <td>Y</td>\n      <td>N</td>\n      <td>N</td>\n      <td>N</td>\n      <td>N</td>\n      <td>Y</td>\n      <td>N</td>\n      <td>Y</td>\n      <td>N</td>\n      <td>N</td>\n      <td>N</td>\n      <td>N</td>\n      <td>Y</td>\n      <td>N</td>\n      <td>N</td>\n      <td>N</td>\n      <td>N</td>\n      <td>N</td>\n      <td>N</td>\n      <td>2017-06-21T17:15:01Z</td>\n    </tr>\n  </tbody>\n</table>\n</div>"
     },
     "metadata": {},
     "execution_count": 19
    }
   ],
   "source": [
    "df[df['FMID'] == 1018318]"
   ]
  },
  {
   "cell_type": "code",
   "execution_count": null,
   "metadata": {},
   "outputs": [],
   "source": []
  }
 ],
 "metadata": {
  "language_info": {
   "codemirror_mode": {
    "name": "ipython",
    "version": 3
   },
   "file_extension": ".py",
   "mimetype": "text/x-python",
   "name": "python",
   "nbconvert_exporter": "python",
   "pygments_lexer": "ipython3",
   "version": "3.8.0-final"
  },
  "orig_nbformat": 2,
  "kernelspec": {
   "name": "python38064bitdataharvesterspipenv1a2ede15533846459c7c3ce9a8a4b83b",
   "display_name": "Python 3.8.0 64-bit ('data-harvesters': pipenv)"
  }
 },
 "nbformat": 4,
 "nbformat_minor": 2
}